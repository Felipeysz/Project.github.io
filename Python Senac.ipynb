{
  "nbformat": 4,
  "nbformat_minor": 0,
  "metadata": {
    "colab": {
      "provenance": [],
      "authorship_tag": "ABX9TyPBiapKFYNNJ9C/8TdqGAcN",
      "include_colab_link": true
    },
    "kernelspec": {
      "name": "python3",
      "display_name": "Python 3"
    },
    "language_info": {
      "name": "python"
    }
  },
  "cells": [
    {
      "cell_type": "markdown",
      "metadata": {
        "id": "view-in-github",
        "colab_type": "text"
      },
      "source": [
        "<a href=\"https://colab.research.google.com/github/Felipeysz/Felipeysz.github.io/blob/main/Python%20Senac.ipynb\" target=\"_parent\"><img src=\"https://colab.research.google.com/assets/colab-badge.svg\" alt=\"Open In Colab\"/></a>"
      ]
    },
    {
      "cell_type": "markdown",
      "source": [
        "OBSERVAÇÕES"
      ],
      "metadata": {
        "id": "hoBkm_dH-Uwv"
      }
    },
    {
      "cell_type": "markdown",
      "source": [
        "Instalação do dJango"
      ],
      "metadata": {
        "id": "MSODUy-ghAHe"
      }
    },
    {
      "cell_type": "code",
      "source": [
        "!pip install --upgrade pip\n",
        "!pip install django\n",
        "import django\n",
        "print(django.get_version())"
      ],
      "metadata": {
        "id": "n-otlgVYg-XO"
      },
      "execution_count": null,
      "outputs": []
    },
    {
      "cell_type": "code",
      "source": [
        "nm1 = 1\n",
        "nm2 = 1\n",
        "\n",
        "\n",
        "if nm1 > nm2:\n",
        "    print('Positivo')\n",
        "elif nm1 == nm2:\n",
        "  print('Numeros Iguais')\n",
        "else:\n",
        "    print('negativo')"
      ],
      "metadata": {
        "colab": {
          "base_uri": "https://localhost:8080/"
        },
        "id": "vxs8v-P0aPzo",
        "outputId": "5e5174ff-b518-460a-efca-1f3bb3897cfd"
      },
      "execution_count": null,
      "outputs": [
        {
          "output_type": "stream",
          "name": "stdout",
          "text": [
            "Numeros Iguais\n"
          ]
        }
      ]
    },
    {
      "cell_type": "code",
      "source": [
        "#Cuidado ao Colocar str direto na variavel algumas contas podem da erro\n",
        "#È Necessario usar str(n) para usar o numero ou dentro do print ou dentro da variavel\n",
        "#input é igual o html\n",
        "#print = log()\n",
        "#[:] = ...\n",
        "#Tipo Inteiro (int)\n",
        "#Ponto Flutuante ou Decimal (float)\n",
        "#Complexo (complex)\n",
        "#String (str)\n",
        "#Boolean (bool)\n",
        "#Listas (list)\n",
        "#Tuplas (tuple)\n",
        "#Dicionários (dict)\n",
        "# (+) (-) (*) (/) (% = resto da conta de dividir)"
      ],
      "metadata": {
        "id": "vk46m8kg-c63"
      },
      "execution_count": null,
      "outputs": []
    },
    {
      "cell_type": "markdown",
      "source": [
        "Codigo 1 Python"
      ],
      "metadata": {
        "id": "xyyGXfAp_gab"
      }
    },
    {
      "cell_type": "code",
      "source": [
        "nome = ' Felipe'\n",
        "Idade = str(17)\n",
        "\n",
        "print ('Nome Do Cliente:' + nome + ' ' +' Minha Idade é:' + ' ' + Idade)"
      ],
      "metadata": {
        "colab": {
          "base_uri": "https://localhost:8080/"
        },
        "id": "7aWgXM4N_ksr",
        "outputId": "9ebcb133-a171-4de2-aacb-672f83d37b62"
      },
      "execution_count": null,
      "outputs": [
        {
          "output_type": "stream",
          "name": "stdout",
          "text": [
            "Nome Do Cliente: Felipe  Minha Idade é: 17\n"
          ]
        }
      ]
    },
    {
      "cell_type": "markdown",
      "source": [
        "Codigo 2 Python"
      ],
      "metadata": {
        "id": "G-w9aP_gE0y1"
      }
    },
    {
      "cell_type": "code",
      "source": [
        "nome  = input('Seu Nome ')\n",
        "idade = input('Sua Idade ')\n",
        "mrdEstado = input('Digite Seu Estado ')\n",
        "mrdCidade = input('Digite Sua Cidade ')\n",
        "mrdRua = input('Digite O Nome da Rua ')\n",
        "nmCasa = input('Numero da Casa ')\n",
        "print('Suas Informaçoes '+nome+' '+idade+' '+mrdEstado+' '+mrdCidade+' '+mrdRua+' '+nmCasa)"
      ],
      "metadata": {
        "id": "BMtZAnyjE2iF"
      },
      "execution_count": null,
      "outputs": []
    },
    {
      "cell_type": "markdown",
      "source": [
        "Codigo 2 Python Teste 2"
      ],
      "metadata": {
        "id": "iob8Frb9Hn62"
      }
    },
    {
      "cell_type": "code",
      "source": [
        "suasInformacoes = input('Nome '),input('Idade '),input('Escolaridade ')\n",
        "\n",
        "print(suasInformacoes)\n",
        "\n",
        "print(17)"
      ],
      "metadata": {
        "colab": {
          "base_uri": "https://localhost:8080/"
        },
        "id": "q_7DPYfSHrbu",
        "outputId": "d2a52f41-ae31-4e35-d5c6-62dd0b9e08e5"
      },
      "execution_count": null,
      "outputs": [
        {
          "output_type": "stream",
          "name": "stdout",
          "text": [
            "Nome a\n",
            "Idade a\n",
            "Escolaridade a\n",
            "('a', 'a', 'a')\n",
            "17\n"
          ]
        }
      ]
    },
    {
      "cell_type": "markdown",
      "source": [
        "Codigo 3 Python"
      ],
      "metadata": {
        "id": "L2gAU2rpNigO"
      }
    },
    {
      "cell_type": "code",
      "source": [
        "nome = input('Nome: ')\n",
        "sobrenome = input('sobrenome: ')\n",
        "idade = input('idade: ')\n",
        "clienteUsuario = nome,sobrenome,idade\n",
        "print(clienteUsuario)\n",
        "print('Seu nome é: '+ nome[:]+' '+sobrenome+'Sua Idade é: '+idade)"
      ],
      "metadata": {
        "colab": {
          "base_uri": "https://localhost:8080/"
        },
        "id": "c1xsK9kJNiHv",
        "outputId": "2f46c92a-a1c8-4d2c-cf70-00a0c6e7f051"
      },
      "execution_count": null,
      "outputs": [
        {
          "output_type": "stream",
          "name": "stdout",
          "text": [
            "Nome: Felipe\n",
            "sobrenome: Santana\n",
            "idade: 17\n",
            "('Felipe', 'Santana', '17')\n",
            "Seu nome é: Felipe Santana 17\n"
          ]
        }
      ]
    },
    {
      "cell_type": "markdown",
      "source": [
        "Codigo 4 Python"
      ],
      "metadata": {
        "id": "DTxsvt3c3BvV"
      }
    },
    {
      "cell_type": "code",
      "source": [
        "#Entrada de Dados\n",
        "primeiroNome = input('Digite seu Primeiro Nome: ')\n",
        "segundoNome = input('Digite seu Segundo Nome: ')\n",
        "ultimoNome = input('Digite seu Ultimo Nome: ')\n",
        "#Saida de Dados\n",
        "print('Seu primeiro nome é: '+'{'+primeiroNome+'}'+'Seu Segundo Nome é:' +'{'+segundoNome+'}'+ 'Seu Ultimo Nome é:' +'{'+ultimoNome+'}')"
      ],
      "metadata": {
        "colab": {
          "base_uri": "https://localhost:8080/"
        },
        "id": "TjnSCKqb3Et8",
        "outputId": "ab3d821d-0e59-4d65-9ad7-2f4b6700618f"
      },
      "execution_count": null,
      "outputs": [
        {
          "output_type": "stream",
          "name": "stdout",
          "text": [
            "Digite seu Primeiro Nome: Luis\n",
            "Digite seu Segundo Nome: Felipe\n",
            "Digite seu Ultimo Nome: Santos\n",
            "Seu primeiro nome é: {Luis}Seu Segundo Nome é:{Felipe}Seu Ultimo Nome é:{Santos}\n"
          ]
        }
      ]
    },
    {
      "cell_type": "markdown",
      "source": [
        "Codigo 5 python"
      ],
      "metadata": {
        "id": "HwGzlac87hZW"
      }
    },
    {
      "cell_type": "code",
      "source": [
        "\n",
        "a = (1)\n",
        "b = (2.5)\n",
        "c = a + b\n",
        "d = a * b\n",
        "e = a / b\n",
        "f = a - b\n",
        "\n",
        "print (a,b,c,d,e,f)"
      ],
      "metadata": {
        "colab": {
          "base_uri": "https://localhost:8080/"
        },
        "id": "znICcdF57jaN",
        "outputId": "218a20cf-402c-4370-d31b-8716c7d2c96b"
      },
      "execution_count": null,
      "outputs": [
        {
          "output_type": "stream",
          "name": "stdout",
          "text": [
            "True True 2 1 1.0 0\n"
          ]
        }
      ]
    },
    {
      "cell_type": "markdown",
      "source": [
        "Codigo 6 Python"
      ],
      "metadata": {
        "id": "-P-JZKK1C5aC"
      }
    },
    {
      "cell_type": "code",
      "source": [
        "#Calculo de Área\n",
        "raio = float(input('Informe o valor do raio da circunfârencia: '))\n",
        "area = (raio * raio) * 3.14159\n",
        "print('Área = %0.0f' %area)\n",
        "# Entre aspas esta Colocando Área Escrito + quantos numeros dps do numero inteiro eu quero = %0.0f/%0.1f/%0.2f/%0.3f/%0.4f\n",
        "# OBS Não Podemos Escrever /%0.1float pois assim ira aparecer loat Escrito"
      ],
      "metadata": {
        "colab": {
          "base_uri": "https://localhost:8080/"
        },
        "id": "4-0jYvWJC-_o",
        "outputId": "ec00eaf8-59f1-41d5-ac79-65740577089d"
      },
      "execution_count": null,
      "outputs": [
        {
          "output_type": "stream",
          "name": "stdout",
          "text": [
            "Informe o valor do raio da circunfârencia: 50\n",
            "Área = 7854\n"
          ]
        }
      ]
    },
    {
      "cell_type": "markdown",
      "source": [
        "Codigo 7 Python"
      ],
      "metadata": {
        "id": "j8kQT3WuFfYb"
      }
    },
    {
      "cell_type": "code",
      "source": [
        "#type = indicador de qual o tipo da variavel\n",
        "#Declarar casa Decimais Ultiliza . = PONTO\n",
        "#,Marcelo,Josue,Josias,Felipe,Lucas\n",
        "#, 42123512, 26235124, 24123642, 22124123"
      ],
      "metadata": {
        "id": "z-Ko_OWMFiO7"
      },
      "execution_count": null,
      "outputs": []
    },
    {
      "cell_type": "markdown",
      "source": [
        "Atividade 1 Python"
      ],
      "metadata": {
        "id": "srdqn1BLOkDA"
      }
    },
    {
      "cell_type": "code",
      "source": [
        "funcionario = input('Informe Seu Nome: ')\n",
        "matricula = str(input('Digite a Matricula: '))\n",
        "nmHoras = float(input('Digite as Horas Trabalhadas na Semana: '))\n",
        "vlHora = float(input('Valor Sobre Hora Trabalhada: '))\n",
        "salario = nmHoras * vlHora\n",
        "print('Nome do Funcionario = {' + funcionario + '} Codigo da Matricula: {'+ matricula + '} Salario = R$ %0.2f:' %salario)"
      ],
      "metadata": {
        "colab": {
          "base_uri": "https://localhost:8080/"
        },
        "id": "7roousXnOn7v",
        "outputId": "5454449e-b97a-4722-a258-aa6cff21bf36"
      },
      "execution_count": null,
      "outputs": [
        {
          "output_type": "stream",
          "name": "stdout",
          "text": [
            "Informe Seu Nome: Felipe\n",
            "Digite a Matricula: 131a\n",
            "Digite as Horas Trabalhadas na Semana: 44\n",
            "Valor Sobre Hora Trabalhada: 12\n",
            "Nome do Funcionario = {Felipe} Codigo da Matricula: {131a} Salario = R$528:\n"
          ]
        }
      ]
    },
    {
      "cell_type": "markdown",
      "source": [
        "Atividade 2 Python"
      ],
      "metadata": {
        "id": "R08UxH0OVTE7"
      }
    },
    {
      "cell_type": "code",
      "source": [
        "nmVendedor = input('Digite Seu Nome: ')\n",
        "slFixo = int(input('Seu Salario Fixo: '))\n",
        "vendasTotaisRS = int(input('Quantas Vendas em Dinheiro: '))\n",
        "prcBonus =  .15\n",
        "bonusSalario = vendasTotaisRS * prcBonus\n",
        "salarioFinal = slFixo + bonusSalario\n",
        "print('Nome do Vendedor ' + nmVendedor + ' Salario = R$ %.2f:' %salarioFinal)"
      ],
      "metadata": {
        "id": "8vapeF6lVVXi",
        "colab": {
          "base_uri": "https://localhost:8080/"
        },
        "outputId": "e02265cd-fbd0-4a72-a20b-512c48365e56"
      },
      "execution_count": null,
      "outputs": [
        {
          "output_type": "stream",
          "name": "stdout",
          "text": [
            "Digite Seu Nome: Felipe\n",
            "Seu Salario Fixo: 1000\n",
            "Quantas Vendas em Dinheiro: 100\n",
            "Nome do Vendedor Felipe Salario = R$ 1015.00:\n"
          ]
        }
      ]
    },
    {
      "cell_type": "markdown",
      "source": [
        "# Nova seção"
      ],
      "metadata": {
        "id": "s5UhkPLKaZNF"
      }
    },
    {
      "cell_type": "markdown",
      "source": [
        "Atividade 3 Python"
      ],
      "metadata": {
        "id": "K4zGtAbqaEem"
      }
    },
    {
      "cell_type": "code",
      "source": [
        "cdpeca1 = input('Codigo do Produto 1: ')\n",
        "qtdpecas1 = float(input('Quantos Produtos 1: '))\n",
        "vlpeca1 = 15\n",
        "resultado1 = qtdpecas1 * vlpeca1\n",
        "\n",
        "cdpeca2 = input('Codigo do Produto 2: ')\n",
        "qtdpecas2 = float(input('Quantos Produtos 2: '))\n",
        "vlpeca2 = 22\n",
        "resultado2 = qtdpecas2 * vlpeca2\n",
        "\n",
        "valorTotalCompra = resultado1 + resultado2\n",
        "\n",
        "print('\\nValor da Primeira Compra: R$' + str(resultado1) + ' ' + '\\nValor da Segunda Compra R$: ' + str(resultado2) + '\\nValor Total da Compra R$: ' + str(valorTotalCompra))"
      ],
      "metadata": {
        "id": "2hH-QrZNaGd1",
        "colab": {
          "base_uri": "https://localhost:8080/"
        },
        "outputId": "34090f93-c594-4408-9698-e78a5f42934c"
      },
      "execution_count": null,
      "outputs": [
        {
          "output_type": "stream",
          "name": "stdout",
          "text": [
            "Codigo do Produto: 12\n",
            "Quantos Produtos: 10\n",
            "Codigo do Produto: 22\n",
            "Quantos Produtos: 3\n",
            "\n",
            "Valor da Primeira Compra: R$150.0 \n",
            "Valor da Segunda Compra R$: 66.0\n",
            "Valor Total da Compra R$: 216.0\n"
          ]
        }
      ]
    },
    {
      "cell_type": "markdown",
      "source": [
        "Atividade 4 Python"
      ],
      "metadata": {
        "id": "aN4fEOoSele_"
      }
    },
    {
      "cell_type": "code",
      "source": [
        "import math\n",
        "\n",
        "raio = float(input('Informe o valor do raio da circunfârencia: '))\n",
        "pi = 3.14159\n",
        "volume = (4/3) * pi * math.pow(raio,3)\n",
        "print('Volume = %.3f' %volume)"
      ],
      "metadata": {
        "id": "cj-lRHLtem7v",
        "colab": {
          "base_uri": "https://localhost:8080/"
        },
        "outputId": "32963773-d0b0-4eff-81a7-93a9607b5ce5"
      },
      "execution_count": null,
      "outputs": [
        {
          "output_type": "stream",
          "name": "stdout",
          "text": [
            "Informe o valor do raio da circunfârencia: 123\n",
            "Volume = 7794774.878\n"
          ]
        }
      ]
    },
    {
      "cell_type": "markdown",
      "source": [
        "Codigo 5 Python"
      ],
      "metadata": {
        "id": "1RjS_WxFry0D"
      }
    },
    {
      "cell_type": "code",
      "source": [
        "listatel = {\"ana\":210012,\"bianca\":210045,\"camila\":210019}\n",
        "\n",
        "print(listatel[\"ana\"])\n",
        "print(listatel[\"bianca\"])\n",
        "print(listatel[\"camila\"])\n",
        "\n",
        "print(listatel.keys())\n",
        "print(listatel.values())"
      ],
      "metadata": {
        "colab": {
          "base_uri": "https://localhost:8080/"
        },
        "id": "NP1hYMPLr4QT",
        "outputId": "410ab478-96ff-4026-a5f7-19fc2153aca3"
      },
      "execution_count": null,
      "outputs": [
        {
          "output_type": "stream",
          "name": "stdout",
          "text": [
            "210012\n",
            "210045\n",
            "210019\n",
            "dict_keys(['ana', 'bianca', 'camila'])\n",
            "dict_values([210012, 210045, 210019])\n"
          ]
        }
      ]
    },
    {
      "cell_type": "markdown",
      "source": [
        "Exercicio Dicionario"
      ],
      "metadata": {
        "id": "zkn7qhVSwcrB"
      }
    },
    {
      "cell_type": "code",
      "source": [
        "pessoas = {\n",
        "    \"nome\":'Felipe',\n",
        "    \"sobrenome\":'Santana',\n",
        "    \"idade\":17,\n",
        "    \"curso\":'Aplicações Web Com Pyton',\n",
        "    \"endereco\":'Parque São Cristovão'\n",
        "           }\n",
        "print(pessoas[\"nome\"])\n",
        "print(pessoas[\"sobrenome\"])\n",
        "print(pessoas[\"idade\"])\n",
        "print(pessoas[\"curso\"])\n",
        "print(pessoas[\"endereco\"])\n",
        "del pessoas[\"curso\"]\n",
        "pessoas[\"sobrenome\"] = 'Lopes'\n",
        "print(pessoas)\n",
        "print(pessoas[\"endereco\"])\n",
        "pessoas2 = pessoas.copy()\n",
        "pessoas2[\"nome\"] = 'Lucas'\n",
        "pessoas2[\"idade\"] = 25\n",
        "print(pessoas2)\n"
      ],
      "metadata": {
        "colab": {
          "base_uri": "https://localhost:8080/"
        },
        "id": "LS63SgYjwfe7",
        "outputId": "5b0ad21f-6ae1-41b8-9f1d-cb19f19f588d"
      },
      "execution_count": null,
      "outputs": [
        {
          "output_type": "stream",
          "name": "stdout",
          "text": [
            "Felipe\n",
            "Santana\n",
            "17\n",
            "Aplicações Web Com Pyton\n",
            "Parque São Cristovão\n",
            "{'nome': 'Felipe', 'sobrenome': 'Lopes', 'idade': 17, 'endereco': 'Parque São Cristovão'}\n",
            "Parque São Cristovão\n",
            "{'nome': 'Lucas', 'sobrenome': 'Lopes', 'idade': 25, 'endereco': 'Parque São Cristovão'}\n"
          ]
        }
      ]
    },
    {
      "cell_type": "markdown",
      "source": [
        "Atividade Estrutura de Seleções"
      ],
      "metadata": {
        "id": "2ec5qwnYcYhn"
      }
    },
    {
      "cell_type": "code",
      "source": [
        "vlValor = float(75);\n",
        "\n",
        "if vlValor <= 25:\n",
        "  print('O Valor Esta entre 0 e 25')\n",
        "elif vlValor <= 50:\n",
        "  print('O valor esta entre +25 e 50')\n",
        "elif vlValor <= 75:\n",
        "  print('O valor esta entre +50 e 75')\n",
        "else:\n",
        "  print('O valor esta entre +75 e 100')"
      ],
      "metadata": {
        "colab": {
          "base_uri": "https://localhost:8080/"
        },
        "id": "mV4jiu4mclId",
        "outputId": "c016be14-df77-4a4d-c4aa-88379cd1ef53"
      },
      "execution_count": null,
      "outputs": [
        {
          "output_type": "stream",
          "name": "stdout",
          "text": [
            "O valor esta entre + 50 e 75\n"
          ]
        }
      ]
    },
    {
      "cell_type": "markdown",
      "source": [
        "Atividade Coordenadas"
      ],
      "metadata": {
        "id": "df3gZMKNi159"
      }
    },
    {
      "cell_type": "code",
      "source": [
        "x = float(input(\"Digite a coordenada x: \"))\n",
        "y = float(input(\"Digite a coordenada y: \"))\n",
        "\n",
        "if x == 0 and y == 0:\n",
        "    print(\"Origem\")\n",
        "elif x == 0:\n",
        "    print(\"Eixo Y\")\n",
        "elif y == 0:\n",
        "    print(\"Eixo X\")\n",
        "elif x > 0 and y > 0:\n",
        "    print(\"Primeiro Quadrante\")\n",
        "elif x < 0 and y > 0:\n",
        "    print(\"Segundo Quadrante\")\n",
        "elif x < 0 and y < 0:\n",
        "    print(\"Terceiro Quadrante\")\n",
        "else:\n",
        "    print(\"Quarto Quadrante\")"
      ],
      "metadata": {
        "colab": {
          "base_uri": "https://localhost:8080/"
        },
        "id": "7sdX3bn_i3QT",
        "outputId": "f39ce02a-e8f3-41b1-ddb2-a12797539b9f"
      },
      "execution_count": null,
      "outputs": [
        {
          "output_type": "stream",
          "name": "stdout",
          "text": [
            "Digite a coordenada x: 1500\n",
            "Digite a coordenada y: 251\n",
            "Primeiro Quadrante\n"
          ]
        }
      ]
    },
    {
      "cell_type": "markdown",
      "source": [
        "Atividade Tempo do Jogo"
      ],
      "metadata": {
        "id": "X69zrnNAjd4j"
      }
    },
    {
      "cell_type": "code",
      "source": [
        "hr_inicio = int(input(\"Digite a hora inicial do jogo: \"))\n",
        "if hr_inicio < 0 or hr_inicio > 23:\n",
        "    print(\"Hora inválida. Digite um valor entre 0 e 23.\")\n",
        "\n",
        "mn_inicio = int(input(\"Digite o minuto inicial do jogo (entre 0 e 59): \"))\n",
        "if mn_inicio < 0 or mn_inicio > 59:\n",
        "    print(\"Minuto inválido. Digite um valor entre 0 e 59.\")\n",
        "\n",
        "hr_final = int(input(\"Digite a hora Final do jogo: \"))\n",
        "if hr_final < 0 or hr_final > 23:\n",
        "    print(\"Hora inválida. Digite um valor entre 0 e 23.\")\n",
        "\n",
        "mn_final = int(input(\"Digite o minuto Final do jogo (entre 0 e 59): \"))\n",
        "if mn_final < 0 or mn_final > 59:\n",
        "    print(\"Minuto inválido. Digite um valor entre 0 e 59.\")\n",
        "\n",
        "\n",
        "\n",
        "duracao_minutos = (hr_final * 60 + mn_final) - (hr_inicio * 60 + mn_inicio)\n",
        "\n",
        "duracao_horas = duracao_minutos // 60\n",
        "duracao_minutos %= 60\n",
        "\n",
        "#O Tempo do Jogo So Podera Ser No Maximo De (1 hora e 30 minutos)\n",
        "\n",
        "\n",
        "if duracao_horas > 1 or (duracao_horas == 1 and duracao_minutos > 30):\n",
        "    print(\"Tempo de Jogo Inválido\")\n",
        "else:\n",
        "    print(f\"A duração do jogo é de {duracao_horas} horas e {duracao_minutos} minutos.\")"
      ],
      "metadata": {
        "colab": {
          "base_uri": "https://localhost:8080/"
        },
        "id": "S6XZX3cdjfYJ",
        "outputId": "1627f3e7-fd9d-4fcb-c8ac-f25afd0b9aad"
      },
      "execution_count": null,
      "outputs": [
        {
          "output_type": "stream",
          "name": "stdout",
          "text": [
            "Digite a hora inicial do jogo: 12\n",
            "Digite o minuto inicial do jogo (entre 0 e 59): 25\n",
            "Digite a hora inicial do jogo: 12\n",
            "Digite o minuto final do jogo (entre 0 e 59): 99\n",
            "A duração do jogo é de 1 horas e 14 minutos.\n"
          ]
        }
      ]
    },
    {
      "cell_type": "markdown",
      "source": [
        "Leitor de Valores"
      ],
      "metadata": {
        "id": "2r2sDjWDn2Vl"
      }
    },
    {
      "cell_type": "code",
      "source": [
        "vl_valor1 = float(input(\"Digite o primeiro valor: \"))\n",
        "vl_valor2 = float(input(\"Digite o segundo valor: \"))\n",
        "vl_valor3 = float(input(\"Digite o terceiro valor: \"))\n",
        "vl_valor4 = float(input(\"Digite o quarto valor: \"))\n",
        "\n",
        "valores_decrescente = sorted([vl_valor1, vl_valor2, vl_valor3, vl_valor4], reverse=True)\n",
        "\n",
        "valores_crescente = sorted([vl_valor1, vl_valor2, vl_valor3, vl_valor4])\n",
        "\n",
        "print(\"Valores em ordem decrescente:\", end=\" \")\n",
        "for valor in valores_decrescente:\n",
        "    print(valor, end=\" \")\n",
        "\n",
        "print(\"\\nValores em ordem crescente:\", end=\" \")\n",
        "for valor in valores_crescente:\n",
        "    print(valor, end=\" \")"
      ],
      "metadata": {
        "colab": {
          "base_uri": "https://localhost:8080/"
        },
        "id": "L_b0aMyVn5KE",
        "outputId": "f7af30bd-5918-467e-b5a4-6c596bd208ad"
      },
      "execution_count": null,
      "outputs": [
        {
          "output_type": "stream",
          "name": "stdout",
          "text": [
            "Digite o primeiro valor: 12\n",
            "Digite o segundo valor: 12\n",
            "Digite o terceiro valor: 12\n",
            "Digite o quarto valor: 124\n",
            "Valores em ordem decrescente: 124.0 12.0 12.0 12.0 \n",
            "Valores em ordem crescente: 12.0 12.0 12.0 124.0 "
          ]
        }
      ]
    },
    {
      "cell_type": "markdown",
      "source": [
        "Atividade Mútiplos"
      ],
      "metadata": {
        "id": "uTdRPfa-AbZs"
      }
    },
    {
      "cell_type": "code",
      "source": [
        "nm_valor1 = int(input(\"Digite o Primeiro Valor: \"))\n",
        "nm_valor2 = int(input(\"Digite o Segundo Valor: \"))\n",
        "\n",
        "\n",
        "nm_valor1 % nm_valor2 == 0\n",
        "resultado = nm_valor1 / nm_valor2\n",
        "\n",
        "\n",
        "if resultado.is_integer():\n",
        "  print(\"São Multiplos\")\n",
        "else:\n",
        "  print(\"Não São Multiplos\")\n"
      ],
      "metadata": {
        "colab": {
          "base_uri": "https://localhost:8080/"
        },
        "id": "TFrieujSAiQk",
        "outputId": "21d0fb0f-ad48-4a7b-9f11-2916dd5bc039"
      },
      "execution_count": null,
      "outputs": [
        {
          "output_type": "stream",
          "name": "stdout",
          "text": [
            "Digite o Primeiro Valor: 12\n",
            "Digite o Segundo Valor: 99\n",
            "Não São Multiplos\n"
          ]
        }
      ]
    },
    {
      "cell_type": "markdown",
      "source": [
        "Atividade (Par ou Impar)"
      ],
      "metadata": {
        "id": "LImw-rpdUmKx"
      }
    },
    {
      "cell_type": "code",
      "source": [
        "nm_valor = float(input('Informe o Valor 1: '))\n",
        "\n",
        "if nm_valor1 % 2:\n",
        "  print('O Valor é Par')\n",
        "else:\n",
        "  print('O Valor Impar')"
      ],
      "metadata": {
        "colab": {
          "base_uri": "https://localhost:8080/"
        },
        "id": "oEHQl4K1UcJh",
        "outputId": "b917ed56-6bea-4f21-fa21-3024fd017263"
      },
      "execution_count": null,
      "outputs": [
        {
          "output_type": "stream",
          "name": "stdout",
          "text": [
            "Informe o Valor 1: 3\n",
            "Valor Impar\n"
          ]
        }
      ]
    },
    {
      "cell_type": "markdown",
      "source": [
        "Atividade Devolução de Livro"
      ],
      "metadata": {
        "id": "yyTtJbALVtVp"
      }
    },
    {
      "cell_type": "code",
      "source": [
        "import random\n",
        "cd_livro = str(input('Qual o Codigo do Livro: '))\n",
        "slr_min = float(1320)\n",
        "numero_aleatorio = random.randint(0, 15)\n",
        "\n",
        "if numero_aleatorio == 0:\n",
        "  print('Devolução Feita com Sucesso e Sem Taxas de Atraso... Tenha um Bom Dia')\n",
        "elif numero_aleatorio <= 5:\n",
        "  conta_1 = slr_min / 100 * 1.5\n",
        "  resultado_1 = round(conta_1, 2)\n",
        "  print(f'Devolução Feita com Sucesso e Com uma Taxas de {resultado_1} Tenha um Bom Dia')\n",
        "elif numero_aleatorio <= 10:\n",
        "  conta_2 = slr_min / 100 * 2\n",
        "  resultado_2 = round(conta_2, 2)\n",
        "  print(f'Devolução Feita com Sucesso e Com uma Taxas de {resultado_2} Tenha um Bom Dia')\n",
        "elif numero_aleatorio > 10:\n",
        "  conta_3 = slr_min / 100 * 3\n",
        "  resultado_3 = round(conta_3, 2)\n",
        "  print(f'Devolução Feita com Sucesso e Com uma Taxas de {resultado_3} Devido a taxa de Atraso. 😁Tenha um Bom Dia')"
      ],
      "metadata": {
        "id": "froTlgO_VwrS"
      },
      "execution_count": null,
      "outputs": []
    },
    {
      "cell_type": "markdown",
      "source": [
        "Atividade 1 (Mad Libs em Python)"
      ],
      "metadata": {
        "id": "d-y3dlgShOXH"
      }
    },
    {
      "cell_type": "code",
      "source": [
        "valorCelularFabrica = [\n",
        "    {'Marca': 'Apple',\n",
        "     'Modelo': ['Iphone X', 'Iphone 11', 'Iphone 12', 'Iphone 13', 'Iphone 14'],\n",
        "     'ValorApple': [1900, 2300, 3000, 3300, 4000]},\n",
        "\n",
        "    {'Marca': 'Motorola',\n",
        "     'Modelo': ['Motog 20', 'Motog 30', 'Motog 31', 'Motog 41', 'Motog 51'],\n",
        "     'ValorMotorola': [1200, 700, 900, 1300, 1500]},\n",
        "\n",
        "    {'Marca': 'Samsung',\n",
        "     'Modelo': ['A1', 'A4', 'A14', 'A24', 'M23'],\n",
        "     'ValorSamsung': [700, 900, 1100, 1500, 1900]}\n",
        "]\n",
        "\n",
        "\n",
        "valorCelularCompra = [\n",
        "    {'Marca': 'Apple',\n",
        "     'Modelo': ['Iphone X', 'Iphone 11', 'Iphone 12', 'Iphone 13', 'Iphone 14'],\n",
        "     'ValorApple': [2500, 2900, 3400, 3700 , 4500]},\n",
        "\n",
        "    {'Marca': 'Motorola',\n",
        "     'Modelo': ['Motog 20', 'Motog 30', 'Motog 31', 'Motog 41', 'Motog 51'],\n",
        "     'ValorMotorola': [700, 1200, 1300, 1700, 2200]},\n",
        "\n",
        "    {'Marca': 'Samsung',\n",
        "     'Modelo': ['A1', 'A4', 'A14', 'A24', 'M23'],\n",
        "     'ValorSamsung': [700, 900, 1100, 1500,1700]}\n",
        "]\n",
        "\n",
        "\n",
        "estoqueLojaCelular = [\n",
        "    {'Marca': 'Apple',\n",
        "     'Modelo': ['Iphone X', 'Iphone 11', 'Iphone 12', 'Iphone 13', 'Iphone 14'],\n",
        "     'EstoqueApple': [250, 290, 340, 450, 150]},\n",
        "\n",
        "    {'Marca': 'Motorola',\n",
        "     'Modelo': ['Motog 20', 'Motog 30', 'Motog 31', 'Motog 41', 'Motog 51'],\n",
        "     'EstoqueMotorola': [170, 120, 130, 170, 220]},\n",
        "\n",
        "    {'Marca': 'Samsung',\n",
        "     'Modelo': ['A1', 'A4', 'A14', 'A24', 'M23'],\n",
        "     'EstoqueSamsung': [70, 90, 110, 150, 220]}\n",
        "]\n",
        "\n",
        "           #Faturamento/Lucro Por Celular\n",
        "\n",
        "LucroIphone_X = valorCelularCompra[0]['ValorApple'][0] - valorCelularFabrica[0]['ValorApple'][0]\n",
        "LucroIphone_11 = valorCelularCompra[0]['ValorApple'][1] - valorCelularFabrica[0]['ValorApple'][1]\n",
        "LucroIphone_12 = valorCelularCompra[0]['ValorApple'][2] - valorCelularFabrica[0]['ValorApple'][2]\n",
        "LucroIphone_13 = valorCelularCompra[0]['ValorApple'][3] - valorCelularFabrica[0]['ValorApple'][3]\n",
        "LucroIphone_14 = valorCelularCompra[0]['ValorApple'][4] - valorCelularFabrica[0]['ValorApple'][4]\n",
        "\n",
        "\n",
        "LucroMotog_20 = valorCelularCompra[1]['ValorMotorola'][0] - valorCelularFabrica[1]['ValorMotorola'][0]\n",
        "LucroMotog_30 = valorCelularCompra[1]['ValorMotorola'][1] - valorCelularFabrica[1]['ValorMotorola'][1]\n",
        "LucroMotog_31 = valorCelularCompra[1]['ValorMotorola'][2] - valorCelularFabrica[1]['ValorMotorola'][2]\n",
        "LucroMotog_41 = valorCelularCompra[1]['ValorMotorola'][3] - valorCelularFabrica[1]['ValorMotorola'][3]\n",
        "LucroMotog_51 = valorCelularCompra[1]['ValorMotorola'][4] - valorCelularFabrica[1]['ValorMotorola'][4]\n",
        "\n",
        "LucroA1 = valorCelularCompra[2]['ValorSamsung'][0] - valorCelularFabrica[2]['ValorSamsung'][0]\n",
        "LucroA4 = valorCelularCompra[2]['ValorSamsung'][1] - valorCelularFabrica[2]['ValorSamsung'][1]\n",
        "LucroA14 = valorCelularCompra[2]['ValorSamsung'][2] - valorCelularFabrica[2]['ValorSamsung'][2]\n",
        "LucroA24 = valorCelularCompra[2]['ValorSamsung'][3] - valorCelularFabrica[2]['ValorSamsung'][3]\n",
        "LucroM23 = valorCelularCompra[2]['ValorSamsung'][4] - valorCelularFabrica[2]['ValorSamsung'][4]\n",
        "\n",
        "\n",
        "\n",
        "compraProduto = input('Escolha qual a marca de celular você deseja comprar (Apple, Motorola, Samsung): ')\n",
        "\n",
        "if compraProduto == 'Apple':\n",
        "    modeloApple = input('Escolha o modelo (Iphone X, Iphone 11, Iphone 12, Iphone 13, Iphone 14):')\n",
        "    if modeloApple == 'Iphone X':\n",
        "        print(f\"Valor da Compra é de: R$ {valorCelularCompra[0]['ValorApple'][0]}\")\n",
        "        print(f\"O Lucro da Empresa sera de: R$ {LucroIphone_X}\")\n",
        "    elif modeloApple == 'Iphone 11':\n",
        "        print(f\"Valor da Compra é de: R$ {valorCelularCompra[0]['ValorApple'][1]}\")\n",
        "        print(f\"O Lucro da Empresa sera de: R$ {LucroIphone_11}\")\n",
        "    elif modeloApple == 'Iphone 12':\n",
        "        print(f\"Valor da Compra é de: R$ {valorCelularCompra[0]['ValorApple'][2]}\")\n",
        "        print(f\"O Lucro da Empresa sera de: R$ {LucroIphone_12}\")\n",
        "    elif modeloApple == 'Iphone 13':\n",
        "        print(f\"Valor da Compra é de: R$ {valorCelularCompra[0]['ValorApple'][3]}\")\n",
        "        print(f\"O Lucro da Empresa sera de: R$ {LucroIphone_13}\")\n",
        "    elif modeloApple == 'Iphone 14':\n",
        "        print(f\"Valor da Compra é de: R$ {valorCelularCompra[0]['ValorApple'][4]}\")\n",
        "        print(f\"O Lucro da Empresa sera de: R$ {LucroIphone_14}\")\n",
        "    else:\n",
        "        print('O Modelo deve Estar Dentre as Alternativas')\n",
        "\n",
        "elif compraProduto == 'Motorola':\n",
        "\n",
        "    modeloMotorola = input('Escolha o modelo (Motog 20, Motog 30, Motog 31, Motog 41, Motog 51):')\n",
        "    if modeloMotorola == 'Motog 20':\n",
        "        print(f\"Valor da Compra é de: R$ {valorCelularCompra[1]['ValorMotorola'][0]}\")\n",
        "        print(f\"O Lucro da Empresa sera de: R$ {LucroMotog_20}\")\n",
        "    elif modeloMotorola == 'Motog 30':\n",
        "        print(f\"Valor da Compra é de: R$ {valorCelularCompra[1]['ValorMotorola'][1]}\")\n",
        "        print(f\"O Lucro da Empresa sera de: R$ {LucroMotog_30}\")\n",
        "    elif modeloMotorola == 'Motog 31':\n",
        "        print(f\"Valor da Compra é de: R$ {valorCelularCompra[1]['ValorMotorola'][2]}\")\n",
        "        print(f\"O Lucro da Empresa sera de: R$ {LucroMotog_31}\")\n",
        "    elif modeloMotorola == 'Motog 41':\n",
        "        print(f\"Valor da Compra é de: R$ {valorCelularCompra[1]['ValorMotorola'][3]}\")\n",
        "        print(f\"O Lucro da Empresa sera de: R$ {LucroMotog_41}\")\n",
        "    elif modeloMotorola == 'Motog 51':\n",
        "        print(f\"Valor da Compra é de: R$ {valorCelularCompra[1]['ValorMotorola'][4]}\")\n",
        "        print(f\"O Lucro da Empresa sera de: R$ {LucroMotog_51}\")\n",
        "    else:\n",
        "        print('O Modelo deve Estar Dentre as Alternativas')\n",
        "\n",
        "elif compraProduto == 'Samsung':\n",
        "\n",
        "    modeloSamsung = input('Escolha o modelo (A1, A4, A14, A24, M23):')\n",
        "    if modeloSamsung == 'A1':\n",
        "        print(f\"Valor da Compra é de: R$ {valorCelularCompra[2]['ValorSamsung'][0]}\")\n",
        "        print(f\"O Lucro da Empresa sera de: R$ {LucroA1}\")\n",
        "    elif modeloSamsung == 'A4':\n",
        "        print(f\"Valor da Compra é de: R$ {valorCelularCompra[2]['ValorSamsung'][1]}\")\n",
        "        print(f\"O Lucro da Empresa sera de: R$ {LucroA4}\")\n",
        "    elif modeloSamsung == 'A14':\n",
        "        print(f\"Valor da Compra é de: R$ {valorCelularCompra[2]['ValorSamsung'][2]}\")\n",
        "        print(f\"O Lucro da Empresa sera de: R$ {LucroA14}\")\n",
        "    elif modeloSamsung == 'A24':\n",
        "        print(f\"Valor da Compra é de: R$ {valorCelularCompra[2]['ValorSamsung'][3]}\")\n",
        "        print(f\"O Lucro da Empresa sera de: R$ {LucroA24}\")\n",
        "    elif modeloSamsung == 'M23':\n",
        "        print(f\"Valor da Compra é de: R$ {valorCelularCompra[2]['ValorSamsung'][4]}\")\n",
        "        print(f\"O Lucro da Empresa sera de: R$ {LucroM23}\")\n",
        "    else:\n",
        "        print('O Modelo deve Estar Dentre as Alternativas')\n",
        "else:\n",
        "    print('O Celular deve estar dentre as alternativas')\n",
        "\n",
        "\n",
        "\n",
        "\n",
        "\n",
        "estoqueFalar = input('Escolha qual a marca de celular você deseja ver o Estoque (Apple, Motorola, Samsung): ')\n",
        "\n",
        "if estoqueFalar == 'Apple':\n",
        "  estoqueApple = input('Escolha o modelo (Iphone X, Iphone 11, Iphone 12, Iphone 13, Iphone 14):')\n",
        "  if estoqueApple == 'Iphone X':\n",
        "    print(f\"O valor do estoque é: {estoqueLojaCelular[0]['EstoqueApple'][0]}\")\n",
        "  elif estoqueApple == 'Iphone 11':\n",
        "    print(f\"O valor do estoque é: {estoqueLojaCelular[0]['EstoqueApple'][1]}\")\n",
        "  elif estoqueApple == 'Iphone 12':\n",
        "    print(f\"O valor do estoque é: {estoqueLojaCelular[0]['EstoqueApple'][2]}\")\n",
        "  elif estoqueApple == 'Iphone 13':\n",
        "    print(f\"O valor do estoque é: {estoqueLojaCelular[0]['EstoqueApple'][3]}\")\n",
        "  elif estoqueApple == 'Iphone 14':\n",
        "    print(f\"O valor do estoque é: {estoqueLojaCelular[0]['EstoqueApple'][4]}\")\n",
        "  else:\n",
        "    print('O Celular deve estar dentre as alternativas')\n",
        "\n",
        "elif estoqueFalar == 'Motorola':\n",
        "\n",
        "  estoqueMotorola = input('Escolha o modelo (Motog 20, Motog 30, Motog 31, Motog 41, Motog 51):')\n",
        "  if estoqueMotorola == 'Motog 20':\n",
        "    print(f\"O valor do estoque é: {estoqueLojaCelular[1]['EstoqueMotorola'][0]}\")\n",
        "  elif estoqueMotorola == 'Motog 30':\n",
        "    print(f\"O valor do estoque é: {estoqueLojaCelular[1]['EstoqueMotorola'][1]}\")\n",
        "  elif estoqueMotorola == 'Motog 31':\n",
        "    print(f\"O valor do estoque é: {estoqueLojaCelular[1]['EstoqueMotorola'][2]}\")\n",
        "  elif estoqueMotorola == 'Motog 41':\n",
        "    print(f\"O valor do estoque é: {estoqueLojaCelular[1]['EstoqueMotorola'][3]}\")\n",
        "  elif estoqueMotorola == 'Motog 51':\n",
        "    print(f\"O valor do estoque é: {estoqueLojaCelular[1]['EstoqueMotorola'][4]}\")\n",
        "  else:\n",
        "    print('O Celular deve estar dentre as alternativas')\n",
        "\n",
        "elif estoqueFalar == 'Samsung':\n",
        "\n",
        "  estoqueSamsung = input('Escolha o modelo (A1, A4, A14, A24, M23):')\n",
        "  if estoqueSamsung == 'A1':\n",
        "    print(f\"O valor do estoque é: {estoqueLojaCelular[2]['EstoqueSamsung'][0]}\")\n",
        "  elif estoqueSamsung == 'A4':\n",
        "    print(f\"O valor do estoque é: {estoqueLojaCelular[2]['EstoqueSamsung'][1]}\")\n",
        "  elif estoqueSamsung == 'A14':\n",
        "    print(f\"O valor do estoque é: {estoqueLojaCelular[2]['EstoqueSamsung'][2]}\")\n",
        "  elif estoqueSamsung == 'A24':\n",
        "    print(f\"O valor do estoque é: {estoqueLojaCelular[2]['EstoqueSamsung'][3]}\")\n",
        "  elif estoqueSamsung == 'M23':\n",
        "    print(f\"O valor do estoque é: {estoqueLojaCelular[2]['EstoqueSamsung'][4]}\")\n",
        "  else:\n",
        "    print('O Celular deve estar dentre as alternativas')"
      ],
      "metadata": {
        "colab": {
          "base_uri": "https://localhost:8080/"
        },
        "id": "fKr-O86jhL2m",
        "outputId": "d0f8e064-5dac-46fe-8d2e-74e4e6cb8b3b"
      },
      "execution_count": null,
      "outputs": [
        {
          "output_type": "stream",
          "name": "stdout",
          "text": [
            "Escolha qual a marca de celular você deseja comprar (Apple, Motorola, Samsung): Apple\n",
            "Escolha o modelo (Iphone X, Iphone 11, Iphone 12, Iphone 13, Iphone 14):Iphone X\n",
            "Valor da Compra é de: R$ 2500\n",
            "O Lucro da Empresa sera de: R$ 600\n",
            "Escolha qual a marca de celular você deseja ver o Estoque (Apple, Motorola, Samsung): Apple\n",
            "Escolha o modelo (Iphone X, Iphone 11, Iphone 12, Iphone 13, Iphone 14):Iphone 14\n",
            "O valor do estoque é: 150\n"
          ]
        }
      ]
    },
    {
      "cell_type": "markdown",
      "source": [
        "Atividade 2 (Adivinhe o Número em Python (computador))"
      ],
      "metadata": {
        "id": "tyj78-3bDshK"
      }
    },
    {
      "cell_type": "code",
      "source": [
        "import random\n",
        "numero_aleatorio = random.randint(0, 10)\n",
        "\n",
        "acerteONumero = input('Digite um Número: ')\n",
        "\n",
        "if numero_aleatorio == acerteONumero:\n",
        "  print('Voçê Acertou o Número')\n",
        "else:\n",
        "  print(f\"Você Errou O Numero era {numero_aleatorio}. Tente Novamente\")"
      ],
      "metadata": {
        "colab": {
          "base_uri": "https://localhost:8080/"
        },
        "id": "41C5jd00DsKc",
        "outputId": "8b377f56-e254-4564-9105-9a702666b0a2"
      },
      "execution_count": null,
      "outputs": [
        {
          "output_type": "stream",
          "name": "stdout",
          "text": [
            "Digite um Número: 1\n",
            "Você Errou O Numero era 7. Tente Novamente\n"
          ]
        }
      ]
    },
    {
      "cell_type": "markdown",
      "source": [
        "Atividade 3(Faça ele Adivinhar o Número em Python(Usuario))"
      ],
      "metadata": {
        "id": "4CEYID75FJbD"
      }
    },
    {
      "cell_type": "code",
      "source": [
        "import random\n",
        "numero_maquina = random.randint(0, 10)\n",
        "\n",
        "numeroDaSorte = random.randint(0, 10)\n",
        "\n",
        "if numeroDaSorte == numero_maquina:\n",
        "  print(f\"Ela Acertou O Número era: {numeroDaSorte}\")\n",
        "else:\n",
        "  print(f\"A Maquina Errou O Número era: {numeroDaSorte}. Tente Novamente\")\n",
        "  print(f\"O Número dela era: {numero_maquina}\")"
      ],
      "metadata": {
        "colab": {
          "base_uri": "https://localhost:8080/"
        },
        "id": "CqMnzhdrFQ1t",
        "outputId": "1e230be5-5563-4c67-bbd5-0675b2902c88"
      },
      "execution_count": null,
      "outputs": [
        {
          "output_type": "stream",
          "name": "stdout",
          "text": [
            "Ela Acertou O Número era: 9\n"
          ]
        }
      ]
    },
    {
      "cell_type": "markdown",
      "source": [
        "Atividade 4(Pedra,Papel,Tesoura)"
      ],
      "metadata": {
        "id": "dsadIuFoGbY8"
      }
    },
    {
      "cell_type": "code",
      "source": [
        "opcoes = ['Pedra','Papel','Tesoura']\n",
        "jogada_Maquina = random.choice(opcoes)\n",
        "\n",
        "sua_Jogada = input('Digite Pedra,Papel ou Tesoura: ')\n",
        "\n",
        "\n",
        "\n",
        "if jogada_Maquina == sua_Jogada:\n",
        "  print('Empate!!')\n",
        "elif jogada_Maquina == 'Pedra' and sua_Jogada == 'Papel':\n",
        "  print('Você Ganhou')\n",
        "  print(jogada_Maquina)\n",
        "elif jogada_Maquina == 'Pedra' and sua_Jogada == 'Tesoura':\n",
        "  print('A Maquina Ganhou')\n",
        "  print(jogada_Maquina)\n",
        "elif jogada_Maquina == 'Papel' and sua_Jogada == 'Tesoura':\n",
        "  print('Você Ganhou')\n",
        "  print(jogada_Maquina)\n",
        "elif jogada_Maquina == 'Papel' and sua_Jogada == 'Pedra':\n",
        "  print('A Maquina Ganhou')\n",
        "  print(jogada_Maquina)\n",
        "elif jogada_Maquina == 'Tesoura' and sua_Jogada == 'Papel':\n",
        "  print('Você Ganhou')\n",
        "  print(jogada_Maquina)\n",
        "elif jogada_Maquina == 'Tesoura' and sua_Jogada == 'Papel':\n",
        "  print('A Maquina Ganhou')\n",
        "  print(jogada_Maquina)\n",
        "else:\n",
        "  print('Empate')\n",
        "  print(jogada_Maquina)\n"
      ],
      "metadata": {
        "colab": {
          "base_uri": "https://localhost:8080/"
        },
        "id": "Kkyo7zlXGhpT",
        "outputId": "d218c3ff-b1ce-4874-f9b3-d6ad4c5a3144"
      },
      "execution_count": null,
      "outputs": [
        {
          "output_type": "stream",
          "name": "stdout",
          "text": [
            "Digite Pedra,Papel ou TesouraPedra\n",
            "A Maquina Ganhou\n",
            "Papel\n"
          ]
        }
      ]
    },
    {
      "cell_type": "markdown",
      "source": [
        "Python Ultilizando Funções"
      ],
      "metadata": {
        "id": "PmEXJxqkdskf"
      }
    },
    {
      "cell_type": "code",
      "source": [
        "import random\n",
        "\n",
        "x = int(input('Informe o Número inicial: '))\n",
        "y = int(input('Informe o Número Final: '))\n",
        "numero = random.uniform(x, y)\n",
        "print(int(numero))"
      ],
      "metadata": {
        "colab": {
          "base_uri": "https://localhost:8080/"
        },
        "id": "cMvZf7FWd8x3",
        "outputId": "cd7e0030-fc28-402a-8612-5c88d5624d4e"
      },
      "execution_count": null,
      "outputs": [
        {
          "output_type": "stream",
          "name": "stdout",
          "text": [
            "Informe o Número inicial: 45678\n",
            "Informe o Número inicial: 3456\n",
            "14869\n"
          ]
        }
      ]
    },
    {
      "cell_type": "markdown",
      "source": [
        "Formatação de String"
      ],
      "metadata": {
        "id": "Int29GdfEO7p"
      }
    },
    {
      "cell_type": "code",
      "source": [
        "for x in range(1, 11):\n",
        "  print('{0:2d} {1:3d} {2:4d}'.format(x, x*x, x*x*x))\n",
        "#2d == Quantidade de Digitos\n",
        "#.format Como Vai ficar Organizado\n",
        "#range 1,11 == 1 ate o 10"
      ],
      "metadata": {
        "colab": {
          "base_uri": "https://localhost:8080/"
        },
        "id": "a22BI3xHERKZ",
        "outputId": "3bdd2f07-7dec-4b48-b457-1f17b2232d9e"
      },
      "execution_count": null,
      "outputs": [
        {
          "output_type": "stream",
          "name": "stdout",
          "text": [
            " 1   1    1\n",
            " 2   4    8\n",
            " 3   9   27\n",
            " 4  16   64\n",
            " 5  25  125\n",
            " 6  36  216\n",
            " 7  49  343\n",
            " 8  64  512\n",
            " 9  81  729\n",
            "10 100 1000\n"
          ]
        }
      ]
    },
    {
      "cell_type": "code",
      "source": [
        "a = int(input())\n",
        "b = int(input())\n",
        "\n",
        "x = a + b\n",
        "print(f\"X = {x}\")\n",
        "\n",
        "x = 10\n",
        "print(f\"X = {x}\\n\")"
      ],
      "metadata": {
        "colab": {
          "base_uri": "https://localhost:8080/"
        },
        "id": "8rTSTsCgMBXH",
        "outputId": "e5f4b5d8-5745-4c1f-d264-5dc8008061e3"
      },
      "execution_count": null,
      "outputs": [
        {
          "output_type": "stream",
          "name": "stdout",
          "text": [
            "X = 10\n",
            "\n"
          ]
        }
      ]
    },
    {
      "cell_type": "markdown",
      "source": [
        "Atividade 1 BeeCrowd"
      ],
      "metadata": {
        "id": "dyezoIYhmfI1"
      }
    },
    {
      "cell_type": "code",
      "source": [
        "A = float(input())\n",
        "B = float(input())\n",
        "C = (A / 110) * 35\n",
        "D = (B / 110) * 75\n",
        "\n",
        "resultado = C + D\n",
        "\n",
        "\n",
        "\n",
        "print('MEDIA = %0.5f' %resultado)"
      ],
      "metadata": {
        "colab": {
          "base_uri": "https://localhost:8080/"
        },
        "id": "77-4_nBSmlG0",
        "outputId": "d8f97301-e99f-4bfe-acfd-c2bc8b5ec49b"
      },
      "execution_count": null,
      "outputs": [
        {
          "output_type": "stream",
          "name": "stdout",
          "text": [
            "5.0\n",
            "6.0\n",
            "7.0\n",
            "MEDIA = 6.3\n"
          ]
        }
      ]
    },
    {
      "cell_type": "markdown",
      "source": [
        "Atividade 2 BeeCrowd"
      ],
      "metadata": {
        "id": "a64IjGqM0FMz"
      }
    },
    {
      "cell_type": "code",
      "source": [
        "A = float(input())\n",
        "B = float(input())\n",
        "C = float(input())\n",
        "D = (A / 100) * 20\n",
        "E = (B / 100) * 30\n",
        "F = (C / 100) * 50\n",
        "\n",
        "resultado = D + E + F\n",
        "\n",
        "\n",
        "\n",
        "print('MEDIA = %0.1f' %resultado)"
      ],
      "metadata": {
        "id": "P-jP9-9o0HPK"
      },
      "execution_count": null,
      "outputs": []
    },
    {
      "cell_type": "markdown",
      "source": [
        "Atividade 3 BeeCrowd"
      ],
      "metadata": {
        "id": "Jzbd5mRw0IN2"
      }
    },
    {
      "cell_type": "code",
      "source": [
        "Number = int(input())\n",
        "hr_trabalhada = int(input())\n",
        "vl_hora = float(input())\n",
        "\n",
        "salarioTotal = hr_trabalhada * vl_hora\n",
        "print(f\"NUMBER = {Number}\\n\" + ('SALARY = U$ %0.2f' %salarioTotal))"
      ],
      "metadata": {
        "colab": {
          "base_uri": "https://localhost:8080/"
        },
        "id": "vXIR9XZd0SbN",
        "outputId": "8a5f97b6-0536-44c8-89fa-05b8369d1025"
      },
      "execution_count": null,
      "outputs": [
        {
          "output_type": "stream",
          "name": "stdout",
          "text": [
            "100\n",
            "10\n",
            "10\n",
            "NUMBER = 100\n",
            "SALARY = U$ 100.00\n"
          ]
        }
      ]
    },
    {
      "cell_type": "markdown",
      "source": [
        "Atividade 4 BeeCrowd"
      ],
      "metadata": {
        "id": "Tnk086ZG3fX1"
      }
    },
    {
      "cell_type": "code",
      "source": [
        "p1 = (x1,y1) = map(float, input().split())\n",
        "p2 = (x2,y2) = map(float, input().split())\n",
        "\n",
        "a = (x2 - x1)**2\n",
        "b = (y2 - y1)**2\n",
        "conta = a + b\n",
        "\n",
        "distancia = conta ** (1/2)\n",
        "\n",
        "print(f'{distancia:,.4f}')"
      ],
      "metadata": {
        "colab": {
          "base_uri": "https://localhost:8080/",
          "height": 380
        },
        "id": "s_GH9Jw63iEv",
        "outputId": "70c6059c-3a87-480a-c51c-a8b435c032e2"
      },
      "execution_count": null,
      "outputs": [
        {
          "output_type": "error",
          "ename": "KeyboardInterrupt",
          "evalue": "ignored",
          "traceback": [
            "\u001b[0;31m---------------------------------------------------------------------------\u001b[0m",
            "\u001b[0;31mKeyboardInterrupt\u001b[0m                         Traceback (most recent call last)",
            "\u001b[0;32m<ipython-input-94-329d3687669b>\u001b[0m in \u001b[0;36m<cell line: 1>\u001b[0;34m()\u001b[0m\n\u001b[0;32m----> 1\u001b[0;31m \u001b[0mx1\u001b[0m \u001b[0;34m=\u001b[0m \u001b[0mfloat\u001b[0m\u001b[0;34m(\u001b[0m\u001b[0minput\u001b[0m\u001b[0;34m(\u001b[0m\u001b[0;34m)\u001b[0m\u001b[0;34m)\u001b[0m\u001b[0;34m\u001b[0m\u001b[0;34m\u001b[0m\u001b[0m\n\u001b[0m\u001b[1;32m      2\u001b[0m \u001b[0my1\u001b[0m \u001b[0;34m=\u001b[0m \u001b[0mfloat\u001b[0m\u001b[0;34m(\u001b[0m\u001b[0minput\u001b[0m\u001b[0;34m(\u001b[0m\u001b[0;34m)\u001b[0m\u001b[0;34m)\u001b[0m\u001b[0;34m\u001b[0m\u001b[0;34m\u001b[0m\u001b[0m\n\u001b[1;32m      3\u001b[0m \u001b[0mx2\u001b[0m \u001b[0;34m=\u001b[0m \u001b[0mfloat\u001b[0m\u001b[0;34m(\u001b[0m\u001b[0minput\u001b[0m\u001b[0;34m(\u001b[0m\u001b[0;34m)\u001b[0m\u001b[0;34m)\u001b[0m\u001b[0;34m\u001b[0m\u001b[0;34m\u001b[0m\u001b[0m\n\u001b[1;32m      4\u001b[0m \u001b[0my2\u001b[0m \u001b[0;34m=\u001b[0m \u001b[0mfloat\u001b[0m\u001b[0;34m(\u001b[0m\u001b[0minput\u001b[0m\u001b[0;34m(\u001b[0m\u001b[0;34m)\u001b[0m\u001b[0;34m)\u001b[0m\u001b[0;34m\u001b[0m\u001b[0;34m\u001b[0m\u001b[0m\n\u001b[1;32m      5\u001b[0m \u001b[0;34m\u001b[0m\u001b[0m\n",
            "\u001b[0;32m/usr/local/lib/python3.10/dist-packages/ipykernel/kernelbase.py\u001b[0m in \u001b[0;36mraw_input\u001b[0;34m(self, prompt)\u001b[0m\n\u001b[1;32m    849\u001b[0m                 \u001b[0;34m\"raw_input was called, but this frontend does not support input requests.\"\u001b[0m\u001b[0;34m\u001b[0m\u001b[0;34m\u001b[0m\u001b[0m\n\u001b[1;32m    850\u001b[0m             )\n\u001b[0;32m--> 851\u001b[0;31m         return self._input_request(str(prompt),\n\u001b[0m\u001b[1;32m    852\u001b[0m             \u001b[0mself\u001b[0m\u001b[0;34m.\u001b[0m\u001b[0m_parent_ident\u001b[0m\u001b[0;34m,\u001b[0m\u001b[0;34m\u001b[0m\u001b[0;34m\u001b[0m\u001b[0m\n\u001b[1;32m    853\u001b[0m             \u001b[0mself\u001b[0m\u001b[0;34m.\u001b[0m\u001b[0m_parent_header\u001b[0m\u001b[0;34m,\u001b[0m\u001b[0;34m\u001b[0m\u001b[0;34m\u001b[0m\u001b[0m\n",
            "\u001b[0;32m/usr/local/lib/python3.10/dist-packages/ipykernel/kernelbase.py\u001b[0m in \u001b[0;36m_input_request\u001b[0;34m(self, prompt, ident, parent, password)\u001b[0m\n\u001b[1;32m    893\u001b[0m             \u001b[0;32mexcept\u001b[0m \u001b[0mKeyboardInterrupt\u001b[0m\u001b[0;34m:\u001b[0m\u001b[0;34m\u001b[0m\u001b[0;34m\u001b[0m\u001b[0m\n\u001b[1;32m    894\u001b[0m                 \u001b[0;31m# re-raise KeyboardInterrupt, to truncate traceback\u001b[0m\u001b[0;34m\u001b[0m\u001b[0;34m\u001b[0m\u001b[0m\n\u001b[0;32m--> 895\u001b[0;31m                 \u001b[0;32mraise\u001b[0m \u001b[0mKeyboardInterrupt\u001b[0m\u001b[0;34m(\u001b[0m\u001b[0;34m\"Interrupted by user\"\u001b[0m\u001b[0;34m)\u001b[0m \u001b[0;32mfrom\u001b[0m \u001b[0;32mNone\u001b[0m\u001b[0;34m\u001b[0m\u001b[0;34m\u001b[0m\u001b[0m\n\u001b[0m\u001b[1;32m    896\u001b[0m             \u001b[0;32mexcept\u001b[0m \u001b[0mException\u001b[0m \u001b[0;32mas\u001b[0m \u001b[0me\u001b[0m\u001b[0;34m:\u001b[0m\u001b[0;34m\u001b[0m\u001b[0;34m\u001b[0m\u001b[0m\n\u001b[1;32m    897\u001b[0m                 \u001b[0mself\u001b[0m\u001b[0;34m.\u001b[0m\u001b[0mlog\u001b[0m\u001b[0;34m.\u001b[0m\u001b[0mwarning\u001b[0m\u001b[0;34m(\u001b[0m\u001b[0;34m\"Invalid Message:\"\u001b[0m\u001b[0;34m,\u001b[0m \u001b[0mexc_info\u001b[0m\u001b[0;34m=\u001b[0m\u001b[0;32mTrue\u001b[0m\u001b[0;34m)\u001b[0m\u001b[0;34m\u001b[0m\u001b[0;34m\u001b[0m\u001b[0m\n",
            "\u001b[0;31mKeyboardInterrupt\u001b[0m: Interrupted by user"
          ]
        }
      ]
    },
    {
      "cell_type": "markdown",
      "source": [
        "Atividade 5 BeeCrowd"
      ],
      "metadata": {
        "id": "262X1OEf9cL6"
      }
    },
    {
      "cell_type": "code",
      "source": [
        "carro_x = 60\n",
        "carro_y = 90\n",
        "\n",
        "km_distancia = int(input())\n",
        "\n",
        "minutos = km_distancia * 2\n",
        "\n",
        "print(f\"{minutos} minutos\")"
      ],
      "metadata": {
        "colab": {
          "base_uri": "https://localhost:8080/"
        },
        "id": "pkuFnb5-9fFD",
        "outputId": "05616a25-bd39-4a87-b816-14f87a473e88"
      },
      "execution_count": null,
      "outputs": [
        {
          "output_type": "stream",
          "name": "stdout",
          "text": [
            "30\n",
            "60 minutos\n"
          ]
        }
      ]
    },
    {
      "cell_type": "markdown",
      "source": [
        "Atividade 6 BeeCrowd"
      ],
      "metadata": {
        "id": "OnoRNruPJswy"
      }
    },
    {
      "cell_type": "code",
      "source": [
        "tmp_viagemHR = int(input())\n",
        "km_medio = int(input())\n",
        "km_Total = tmp_viagemHR * km_medio\n",
        "\n",
        "km_Litro = 12\n",
        "resultado = km_Total / km_Litro\n",
        "\n",
        "print(f'{resultado:,.3f}')"
      ],
      "metadata": {
        "colab": {
          "base_uri": "https://localhost:8080/",
          "height": 397
        },
        "id": "RCV6haQ1Jua-",
        "outputId": "c24bae77-40a6-4beb-afc2-c3098a31e292"
      },
      "execution_count": null,
      "outputs": [
        {
          "output_type": "error",
          "ename": "KeyboardInterrupt",
          "evalue": "ignored",
          "traceback": [
            "\u001b[0;31m---------------------------------------------------------------------------\u001b[0m",
            "\u001b[0;31mKeyboardInterrupt\u001b[0m                         Traceback (most recent call last)",
            "\u001b[0;32m<ipython-input-5-d36bb38ca857>\u001b[0m in \u001b[0;36m<cell line: 1>\u001b[0;34m()\u001b[0m\n\u001b[0;32m----> 1\u001b[0;31m \u001b[0mtmp_viagemHR\u001b[0m \u001b[0;34m=\u001b[0m \u001b[0mint\u001b[0m\u001b[0;34m(\u001b[0m\u001b[0minput\u001b[0m\u001b[0;34m(\u001b[0m\u001b[0;34m)\u001b[0m\u001b[0;34m)\u001b[0m\u001b[0;34m\u001b[0m\u001b[0;34m\u001b[0m\u001b[0m\n\u001b[0m\u001b[1;32m      2\u001b[0m \u001b[0mkm_medio\u001b[0m \u001b[0;34m=\u001b[0m \u001b[0mint\u001b[0m\u001b[0;34m(\u001b[0m\u001b[0minput\u001b[0m\u001b[0;34m(\u001b[0m\u001b[0;34m)\u001b[0m\u001b[0;34m)\u001b[0m\u001b[0;34m\u001b[0m\u001b[0;34m\u001b[0m\u001b[0m\n\u001b[1;32m      3\u001b[0m \u001b[0mkm_Total\u001b[0m \u001b[0;34m=\u001b[0m \u001b[0mtmp_viagemHR\u001b[0m \u001b[0;34m*\u001b[0m \u001b[0mkm_medio\u001b[0m\u001b[0;34m\u001b[0m\u001b[0;34m\u001b[0m\u001b[0m\n\u001b[1;32m      4\u001b[0m \u001b[0;34m\u001b[0m\u001b[0m\n\u001b[1;32m      5\u001b[0m \u001b[0mkm_Litro\u001b[0m \u001b[0;34m=\u001b[0m \u001b[0;36m12\u001b[0m\u001b[0;34m\u001b[0m\u001b[0;34m\u001b[0m\u001b[0m\n",
            "\u001b[0;32m/usr/local/lib/python3.10/dist-packages/ipykernel/kernelbase.py\u001b[0m in \u001b[0;36mraw_input\u001b[0;34m(self, prompt)\u001b[0m\n\u001b[1;32m    849\u001b[0m                 \u001b[0;34m\"raw_input was called, but this frontend does not support input requests.\"\u001b[0m\u001b[0;34m\u001b[0m\u001b[0;34m\u001b[0m\u001b[0m\n\u001b[1;32m    850\u001b[0m             )\n\u001b[0;32m--> 851\u001b[0;31m         return self._input_request(str(prompt),\n\u001b[0m\u001b[1;32m    852\u001b[0m             \u001b[0mself\u001b[0m\u001b[0;34m.\u001b[0m\u001b[0m_parent_ident\u001b[0m\u001b[0;34m,\u001b[0m\u001b[0;34m\u001b[0m\u001b[0;34m\u001b[0m\u001b[0m\n\u001b[1;32m    853\u001b[0m             \u001b[0mself\u001b[0m\u001b[0;34m.\u001b[0m\u001b[0m_parent_header\u001b[0m\u001b[0;34m,\u001b[0m\u001b[0;34m\u001b[0m\u001b[0;34m\u001b[0m\u001b[0m\n",
            "\u001b[0;32m/usr/local/lib/python3.10/dist-packages/ipykernel/kernelbase.py\u001b[0m in \u001b[0;36m_input_request\u001b[0;34m(self, prompt, ident, parent, password)\u001b[0m\n\u001b[1;32m    893\u001b[0m             \u001b[0;32mexcept\u001b[0m \u001b[0mKeyboardInterrupt\u001b[0m\u001b[0;34m:\u001b[0m\u001b[0;34m\u001b[0m\u001b[0;34m\u001b[0m\u001b[0m\n\u001b[1;32m    894\u001b[0m                 \u001b[0;31m# re-raise KeyboardInterrupt, to truncate traceback\u001b[0m\u001b[0;34m\u001b[0m\u001b[0;34m\u001b[0m\u001b[0m\n\u001b[0;32m--> 895\u001b[0;31m                 \u001b[0;32mraise\u001b[0m \u001b[0mKeyboardInterrupt\u001b[0m\u001b[0;34m(\u001b[0m\u001b[0;34m\"Interrupted by user\"\u001b[0m\u001b[0;34m)\u001b[0m \u001b[0;32mfrom\u001b[0m \u001b[0;32mNone\u001b[0m\u001b[0;34m\u001b[0m\u001b[0;34m\u001b[0m\u001b[0m\n\u001b[0m\u001b[1;32m    896\u001b[0m             \u001b[0;32mexcept\u001b[0m \u001b[0mException\u001b[0m \u001b[0;32mas\u001b[0m \u001b[0me\u001b[0m\u001b[0;34m:\u001b[0m\u001b[0;34m\u001b[0m\u001b[0;34m\u001b[0m\u001b[0m\n\u001b[1;32m    897\u001b[0m                 \u001b[0mself\u001b[0m\u001b[0;34m.\u001b[0m\u001b[0mlog\u001b[0m\u001b[0;34m.\u001b[0m\u001b[0mwarning\u001b[0m\u001b[0;34m(\u001b[0m\u001b[0;34m\"Invalid Message:\"\u001b[0m\u001b[0;34m,\u001b[0m \u001b[0mexc_info\u001b[0m\u001b[0;34m=\u001b[0m\u001b[0;32mTrue\u001b[0m\u001b[0;34m)\u001b[0m\u001b[0;34m\u001b[0m\u001b[0;34m\u001b[0m\u001b[0m\n",
            "\u001b[0;31mKeyboardInterrupt\u001b[0m: Interrupted by user"
          ]
        }
      ]
    },
    {
      "cell_type": "markdown",
      "source": [
        "Atividade 7 BeeCrowd"
      ],
      "metadata": {
        "id": "uwtdvSSLNdFs"
      }
    },
    {
      "cell_type": "code",
      "source": [
        "#Fazer Atividade da Conversão de Segundos em Horas Minutos e segundos"
      ],
      "metadata": {
        "colab": {
          "base_uri": "https://localhost:8080/"
        },
        "id": "3ImlEHXLNVOI",
        "outputId": "27fc2a29-0017-4bf4-e395-255d5a31e576"
      },
      "execution_count": null,
      "outputs": [
        {
          "output_type": "stream",
          "name": "stdout",
          "text": [
            "14:55:53\n"
          ]
        }
      ]
    },
    {
      "cell_type": "code",
      "source": [
        "def fun(inp=2, out=3):\n",
        "    return inp * out\n",
        "\n",
        "\n",
        "print(fun(out=2))"
      ],
      "metadata": {
        "colab": {
          "base_uri": "https://localhost:8080/"
        },
        "id": "ofX5YIYWlbyF",
        "outputId": "eb1b3c96-348d-471d-e959-eb36366155c6"
      },
      "execution_count": null,
      "outputs": [
        {
          "output_type": "stream",
          "name": "stdout",
          "text": [
            "4\n"
          ]
        }
      ]
    },
    {
      "cell_type": "code",
      "source": [
        "while True:\n",
        "    senha = int(input())\n",
        "\n",
        "    if senha != 2002:\n",
        "        print(\"Senha Inválida\")\n",
        "    else:\n",
        "        print(\"Acesso Permitido\")\n",
        "        break"
      ],
      "metadata": {
        "colab": {
          "base_uri": "https://localhost:8080/",
          "height": 130
        },
        "id": "KlW1tTaVUlRL",
        "outputId": "7e8ee84a-85ac-4d4d-a241-fda1048a47ad"
      },
      "execution_count": null,
      "outputs": [
        {
          "output_type": "error",
          "ename": "IndentationError",
          "evalue": "ignored",
          "traceback": [
            "\u001b[0;36m  File \u001b[0;32m\"<ipython-input-92-d48c49ebfa55>\"\u001b[0;36m, line \u001b[0;32m3\u001b[0m\n\u001b[0;31m    reclamacoes = int(input())\u001b[0m\n\u001b[0m                              ^\u001b[0m\n\u001b[0;31mIndentationError\u001b[0m\u001b[0;31m:\u001b[0m expected an indented block after 'try' statement on line 2\n"
          ]
        }
      ]
    },
    {
      "cell_type": "markdown",
      "source": [
        "Conversor de Segundos Para (HORA/MINUTOS/SEGUNDOS)"
      ],
      "metadata": {
        "id": "kIl-U1Z4Su9N"
      }
    },
    {
      "cell_type": "code",
      "source": [
        "segundos_totais = int(input())  # Exemplo de valor de tempo em segundos\n",
        "\n",
        "horas = segundos_totais // 3600  # Calcula o número de horas\n",
        "segundos_restantes = segundos_totais % 3600  # Calcula os segundos restantes após a contagem das horas\n",
        "minutos = segundos_restantes // 60  # Calcula o número de minutos\n",
        "segundos = segundos_restantes % 60  # Calcula os segundos restantes após a contagem dos minutos\n",
        "\n",
        "# Imprime o resultado formatado\n",
        "print(f\"{horas}h {minutos}m {segundos}s\")\n"
      ],
      "metadata": {
        "colab": {
          "base_uri": "https://localhost:8080/"
        },
        "id": "ybCLy2LbD7jf",
        "outputId": "afaca108-01b7-4052-a2c0-c6d7ffa0501f"
      },
      "execution_count": null,
      "outputs": [
        {
          "output_type": "stream",
          "name": "stdout",
          "text": [
            "12345678\n",
            "3429h 21m 18s\n"
          ]
        }
      ]
    },
    {
      "cell_type": "markdown",
      "source": [
        "Conversor de Moedas"
      ],
      "metadata": {
        "id": "8dEc-3GvS000"
      }
    },
    {
      "cell_type": "code",
      "source": [
        "n = int(input())\n",
        "t = [0, 1]\n",
        "\n",
        "for i in range(2, n):\n",
        "  aux = t[i-2] + t[i-1]\n",
        "  t.append(aux)\n",
        "\n",
        "t=' '.join(map(str,t[:n]))\n",
        "print(t)"
      ],
      "metadata": {
        "colab": {
          "base_uri": "https://localhost:8080/"
        },
        "id": "bACRs40rS27M",
        "outputId": "cfbb7afd-6e03-44ed-d7a3-c1a52cf8d81e"
      },
      "execution_count": null,
      "outputs": [
        {
          "output_type": "stream",
          "name": "stdout",
          "text": [
            "5\n",
            "0 1 1 2 3\n"
          ]
        }
      ]
    },
    {
      "cell_type": "markdown",
      "source": [
        "Notas e Moedas"
      ],
      "metadata": {
        "id": "pbBj8JBGUzXu"
      }
    },
    {
      "cell_type": "code",
      "source": [
        "valor = float(input())  # Lê o valor monetário como um número de ponto flutuante\n",
        "\n",
        "# Define as notas e moedas disponíveis\n",
        "notas = [100, 50, 20, 10, 5, 2]\n",
        "moedas = [1, 0.5, 0.25, 0.10, 0.05, 0.01]\n",
        "\n",
        "print(\"NOTAS:\")\n",
        "for nota in notas:\n",
        "    quantidade_notas = int(valor / nota)  # Calcula a quantidade de notas necessárias\n",
        "    print(f\"{quantidade_notas} nota(s) de R$ {nota:.2f}\")\n",
        "    valor -= quantidade_notas * nota  # Atualiza o valor restante\n",
        "\n",
        "print(\"MOEDAS:\")\n",
        "for moeda in moedas:\n",
        "    quantidade_moedas = int(valor / moeda)\n",
        "    print(f\"{quantidade_moedas} moeda(s) de R$ {moeda:.2f}\")\n",
        "    valor -= quantidade_moedas * moeda\n",
        "\n",
        "\n",
        "\n",
        "n = float(input())\n",
        "notas = [100, 50, 20, 10, 5, 2]\n",
        "moedas = [1, 0.50, 0.25, 0.10, 0.05, 0.01];\n",
        "\n",
        "print('NOTAS:')\n",
        "for i in range(len(notas)):\n",
        "\tqt = 0\n",
        "\twhile n-notas[i] >= 0:\n",
        "\t\tqt += 1\n",
        "\t\tn -= notas[i]\n",
        "\tprint(\"%d nota(s) de R$ %.2f\" % (qt, notas[i]))\n",
        "\n",
        "print('MOEDAS:')\n",
        "\n",
        "for i in range(len(moedas)):\n",
        "\tqt = 0\n",
        "\twhile n-moedas[i] >= 0:\n",
        "\t\tqt += 1\n",
        "\t\tn = float(format(round(n - moedas[i],2)))\n",
        "\n",
        "\tprint(\"%d moeda(s) de R$ %.2f\" % (qt, moedas[i]))"
      ],
      "metadata": {
        "colab": {
          "base_uri": "https://localhost:8080/"
        },
        "id": "NVaWuIlqU1Ad",
        "outputId": "50cefec8-9147-49ba-e24e-97ca18af817d"
      },
      "execution_count": null,
      "outputs": [
        {
          "output_type": "stream",
          "name": "stdout",
          "text": [
            "345678\n",
            "NOTAS:\n",
            "3456 nota(s) de R$ 100.00\n",
            "1 nota(s) de R$ 50.00\n",
            "1 nota(s) de R$ 20.00\n",
            "0 nota(s) de R$ 10.00\n",
            "1 nota(s) de R$ 5.00\n",
            "1 nota(s) de R$ 2.00\n",
            "MOEDAS:\n",
            "1 moeda(s) de R$ 1.00\n",
            "0 moeda(s) de R$ 0.50\n",
            "0 moeda(s) de R$ 0.25\n",
            "0 moeda(s) de R$ 0.10\n",
            "0 moeda(s) de R$ 0.04\n",
            "0 moeda(s) de R$ 0.01\n"
          ]
        }
      ]
    },
    {
      "cell_type": "code",
      "source": [
        "\n",
        "hora_inicial = int(input())\n",
        "minuto_inicial = int(input())\n",
        "hora_final = int(input())\n",
        "minuto_final = int(input())\n",
        "\n",
        "\n",
        "duracao_horas = hora_final - hora_inicial\n",
        "duracao_minutos = minuto_final - minuto_inicial\n",
        "\n",
        "\n",
        "if duracao_minutos < 0:\n",
        "    duracao_minutos += 60\n",
        "    duracao_horas -= 1\n",
        "\n",
        "\n",
        "if duracao_horas < 0:\n",
        "    duracao_horas += 24\n",
        "elif duracao_horas > 24:\n",
        "    duracao_horas %= 24\n",
        "\n",
        "print(\"O JOGO DUROU {} HORA(S) E {} MINUTO(S)\".format(duracao_horas, duracao_minutos))\n"
      ],
      "metadata": {
        "colab": {
          "base_uri": "https://localhost:8080/"
        },
        "id": "h06VAK6pdQRC",
        "outputId": "0fedfa42-6385-4f56-fb9e-b88ac235ba1d"
      },
      "execution_count": null,
      "outputs": [
        {
          "output_type": "stream",
          "name": "stdout",
          "text": [
            "1234567\n",
            "23456\n",
            "34567\n",
            "2345678\n",
            "O JOGO DUROU -1199976 HORA(S) E 2322222 MINUTO(S)\n"
          ]
        }
      ]
    },
    {
      "cell_type": "code",
      "source": [
        "class A:\n",
        "    def a(self):\n",
        "        print('a')\n",
        "\n",
        "class B:\n",
        "    def a(self):\n",
        "        print('b')\n",
        "\n",
        "class C(B,A):\n",
        "    def c(self):\n",
        "        self.a()\n",
        "\n",
        "\n",
        "o = C()\n",
        "o.c()"
      ],
      "metadata": {
        "colab": {
          "base_uri": "https://localhost:8080/"
        },
        "id": "Nrb4vS9ATZHX",
        "outputId": "ee151ba3-53e3-494e-baaa-893c6d44f9b3"
      },
      "execution_count": null,
      "outputs": [
        {
          "output_type": "stream",
          "name": "stdout",
          "text": [
            "b\n"
          ]
        }
      ]
    },
    {
      "cell_type": "code",
      "source": [],
      "metadata": {
        "id": "ytxIRcXps-_P"
      },
      "execution_count": null,
      "outputs": []
    },
    {
      "cell_type": "code",
      "source": [
        "x = 16\n",
        "while x > 0:\n",
        "    print('*', end='')\n",
        "    x //=2"
      ],
      "metadata": {
        "colab": {
          "base_uri": "https://localhost:8080/"
        },
        "id": "n3h2aA0afbCk",
        "outputId": "cd9d5ee5-dad5-454d-dfb9-d4ceb573e396"
      },
      "execution_count": null,
      "outputs": [
        {
          "output_type": "stream",
          "name": "stdout",
          "text": [
            "*****"
          ]
        }
      ]
    }
  ]
}